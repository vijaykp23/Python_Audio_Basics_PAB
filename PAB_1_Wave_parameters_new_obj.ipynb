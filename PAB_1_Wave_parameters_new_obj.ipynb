{
 "cells": [
  {
   "cell_type": "code",
   "execution_count": 1,
   "id": "8923e6ae-a291-44d9-b5ef-7a8a7d5c00bf",
   "metadata": {},
   "outputs": [],
   "source": [
    "import wave"
   ]
  },
  {
   "cell_type": "code",
   "execution_count": 7,
   "id": "72a84109-d84f-4ec9-914e-09c2e5dfb911",
   "metadata": {},
   "outputs": [],
   "source": [
    "obj = wave.open(\"1234.wav\",\"rb\")"
   ]
  },
  {
   "cell_type": "code",
   "execution_count": 8,
   "id": "9943f5b3-c9dd-43dc-a077-dafa090f4fce",
   "metadata": {},
   "outputs": [
    {
     "name": "stdout",
     "output_type": "stream",
     "text": [
      "Number of channels: 1\n",
      "Sample width: 2\n",
      "Frame rate: 44100\n",
      "Number of frames: 238464\n",
      "Parameters: _wave_params(nchannels=1, sampwidth=2, framerate=44100, nframes=238464, comptype='NONE', compname='not compressed')\n"
     ]
    }
   ],
   "source": [
    "#print signal parameters\n",
    "print(\"Number of channels:\",obj.getnchannels())\n",
    "print(\"Sample width:\", obj.getsampwidth())\n",
    "print(\"Frame rate:\", obj.getframerate())\n",
    "print(\"Number of frames:\", obj.getnframes())\n",
    "print(\"Parameters:\", obj.getparams())"
   ]
  },
  {
   "cell_type": "code",
   "execution_count": 9,
   "id": "217da758-5a72-4372-8123-96511fbf5842",
   "metadata": {},
   "outputs": [
    {
     "name": "stdout",
     "output_type": "stream",
     "text": [
      "5.40734693877551\n"
     ]
    }
   ],
   "source": [
    "#calculation of audio file time\n",
    "n_frames = obj.getnframes()\n",
    "frame_rate = obj.getframerate()\n",
    "time_audio = n_frames / frame_rate\n",
    "print(time_audio)"
   ]
  },
  {
   "cell_type": "code",
   "execution_count": 10,
   "id": "f482934c-6dda-4381-a7c1-da1e2a84e6de",
   "metadata": {},
   "outputs": [],
   "source": [
    "frames = obj.readframes(-1)"
   ]
  },
  {
   "cell_type": "code",
   "execution_count": 11,
   "id": "e9f804af-81d7-41c8-ae6f-0119b775be27",
   "metadata": {},
   "outputs": [
    {
     "name": "stdout",
     "output_type": "stream",
     "text": [
      "<class 'bytes'> <class 'int'>\n"
     ]
    }
   ],
   "source": [
    "print(type(frames), type(frames[0]))"
   ]
  },
  {
   "cell_type": "code",
   "execution_count": 12,
   "id": "730cfc9c-f65a-46e7-be5a-25d429334de2",
   "metadata": {},
   "outputs": [
    {
     "name": "stdout",
     "output_type": "stream",
     "text": [
      "476928\n"
     ]
    }
   ],
   "source": [
    "print(len(frames))"
   ]
  },
  {
   "cell_type": "code",
   "execution_count": 13,
   "id": "da2ec8a9-a375-49d5-8ace-a631aec1386f",
   "metadata": {
    "scrolled": true
   },
   "outputs": [
    {
     "name": "stdout",
     "output_type": "stream",
     "text": [
      "238464.0\n"
     ]
    }
   ],
   "source": [
    "print(len(frames)/2)"
   ]
  },
  {
   "cell_type": "code",
   "execution_count": 14,
   "id": "11a33404-d056-4301-8bcd-91836e10bcf4",
   "metadata": {},
   "outputs": [],
   "source": [
    "obj.close()"
   ]
  },
  {
   "cell_type": "code",
   "execution_count": 16,
   "id": "03a00673-2fdd-456a-b1d0-2ebdb518ed9e",
   "metadata": {},
   "outputs": [],
   "source": [
    "obj_new = wave.open(\"1234_new.wav\",\"wb\")\n",
    "obj_new.setnchannels(1)\n",
    "obj_new.setsampwidth(2)\n",
    "obj_new.setframerate(22050.0)\n",
    "obj_new.writeframes(frames)\n",
    "obj_new.close()\n"
   ]
  },
  {
   "cell_type": "code",
   "execution_count": null,
   "id": "c3e4168c-6edf-4beb-acb6-73f22715277e",
   "metadata": {},
   "outputs": [],
   "source": []
  }
 ],
 "metadata": {
  "kernelspec": {
   "display_name": "Python 3 (ipykernel)",
   "language": "python",
   "name": "python3"
  },
  "language_info": {
   "codemirror_mode": {
    "name": "ipython",
    "version": 3
   },
   "file_extension": ".py",
   "mimetype": "text/x-python",
   "name": "python",
   "nbconvert_exporter": "python",
   "pygments_lexer": "ipython3",
   "version": "3.11.5"
  }
 },
 "nbformat": 4,
 "nbformat_minor": 5
}
