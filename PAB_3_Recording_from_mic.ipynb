{
 "cells": [
  {
   "cell_type": "code",
   "execution_count": 1,
   "id": "5a432f6f-01ae-4600-97ef-db43b1652da9",
   "metadata": {},
   "outputs": [
    {
     "name": "stdout",
     "output_type": "stream",
     "text": [
      "Start recording\n"
     ]
    }
   ],
   "source": [
    "# Recording_from_mic\n",
    "import pyaudio\n",
    "import wave\n",
    "\n",
    "FRAMES_PER_BUFFER = 3200\n",
    "FORMAT = pyaudio.paInt16\n",
    "CHANNELS = 1\n",
    "RATE = 16000\n",
    "\n",
    "p = pyaudio.PyAudio()\n",
    "\n",
    "stream = p.open(\n",
    "    format=FORMAT,\n",
    "    channels=CHANNELS,\n",
    "    rate=RATE,\n",
    "    input=True,\n",
    "    frames_per_buffer=FRAMES_PER_BUFFER\n",
    "\n",
    ")\n",
    "\n",
    "print(\"Start recording\")\n",
    "\n",
    "seconds = 5\n",
    "frames = []\n",
    "for i in range(0, int(RATE/FRAMES_PER_BUFFER*seconds)):\n",
    "    data = stream.read(FRAMES_PER_BUFFER)\n",
    "    frames.append(data)\n",
    "\n",
    "stream.stop_stream()\n",
    "stream.close()\n",
    "p.terminate()\n",
    "\n",
    "obj = wave.open(\"rec_output.wav\",\"wb\")\n",
    "obj.setnchannels(CHANNELS)\n",
    "obj.setsampwidth(p.get_sample_size(FORMAT))\n",
    "obj.setframerate(RATE)\n",
    "obj.writeframes(b\"\".join(frames))\n",
    "obj.close()\n"
   ]
  },
  {
   "cell_type": "code",
   "execution_count": null,
   "id": "228b4d6b-5abb-4ba6-a957-72bcf05b6cdc",
   "metadata": {},
   "outputs": [],
   "source": []
  }
 ],
 "metadata": {
  "kernelspec": {
   "display_name": "Python 3 (ipykernel)",
   "language": "python",
   "name": "python3"
  },
  "language_info": {
   "codemirror_mode": {
    "name": "ipython",
    "version": 3
   },
   "file_extension": ".py",
   "mimetype": "text/x-python",
   "name": "python",
   "nbconvert_exporter": "python",
   "pygments_lexer": "ipython3",
   "version": "3.11.5"
  }
 },
 "nbformat": 4,
 "nbformat_minor": 5
}
